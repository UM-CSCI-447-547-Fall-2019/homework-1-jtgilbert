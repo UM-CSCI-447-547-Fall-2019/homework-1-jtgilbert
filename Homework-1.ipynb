{
 "cells": [
  {
   "cell_type": "markdown",
   "metadata": {},
   "source": [
    "# Homework 1: Reading data and regression\n",
    "## Due September 5th\n",
    "\n",
    "In class we've been working on developing the tools for linear regression.  In this homework, we'll use those tools to show that one of the original 'big data' problems can be solved quite credibly with ordinary least squares.  Note that this exercise is primarily intended to do two things: 1) provide you with some practice gathering data, and 2) evaluate your ability to reason somewhat abstractly about models.  With respect to the second point, it is in your grade's interest to provide complete and well-reasoned answers to narrative questions posed.  A correct answer can be awarded very few points if its reasoning is absent or unclear, and an incorrect answer can be awarded full points if it is well argued.   \n",
    "\n",
    "Please turn in your work via github classroom.\n",
    "\n",
    "## The big one\n",
    "If you've ever lived in an area prone to seismic activity, you know that people are always a little apprehensive about *the big one*, that giant earthquake (Magnitude greater than 7) that is going to break the pots and collapse the overpasses.  However, the big one rarely happens... until it does.  What happens more frequently is smaller earthquakes.  And even more frequently than that, even smaller earthquakes.  In fact, it's long been understood that earthquake frequency has an inverse relationship with magnitude.  Here, we're going to quantify that relationship for the west coast of the US.  \n",
    "\n",
    "## Data wrangling\n",
    "The first thing that we'll need to do is to aquire a dataset that can help us say something about earthquake frequency.  Fortunately, the United States Geologic Survey keeps such a database.  \n",
    "\n",
    "First, navigate to https://earthquake.usgs.gov/earthquakes/search/.  This is the USGS' central repository for earthquake data.  We'll be interested in data from the last twenty years.  Enter the appropriate date.  Next, we're interested in data from the west coast of the lower 48.  Use the Custom Geographic Region button on the right side of the page, followed by the Draw Rectangle on the Map button.  Draw a rectangle around the west coast, from the Canadian to Mexican border.  Next, open the Output Options tab and select .csv (comma separated values, a plain text format).  Finally, under Limit Results, enter 19999 (the site will throw an error if you make this value bigger).  This series of commands will deliver the ~20k most recent earthquakes of all sizes to occur in this region of the world.  It may take a moment for their server to pull your query together. Download the file.\n",
    "\n",
    "Next, import the data into ipython.  This is easily done with [Pandas' read_csv function](https://pandas.pydata.org/pandas-docs/stable/reference/api/pandas.read_csv.html)."
   ]
  },
  {
   "cell_type": "code",
   "execution_count": 61,
   "metadata": {},
   "outputs": [],
   "source": [
    "import pandas as pd\n",
    "import numpy as np\n",
    "import matplotlib.pyplot as plt"
   ]
  },
  {
   "cell_type": "code",
   "execution_count": 2,
   "metadata": {},
   "outputs": [],
   "source": [
    "# Use pandas to import the earthquake data file here\n",
    "\n",
    "df = pd.read_csv('query.csv')"
   ]
  },
  {
   "cell_type": "markdown",
   "metadata": {},
   "source": [
    "Interrogate the Pandas dataframe for the available fields using its built in method 'keys'\n"
   ]
  },
  {
   "cell_type": "code",
   "execution_count": 3,
   "metadata": {},
   "outputs": [
    {
     "data": {
      "text/plain": [
       "Index([u'time', u'latitude', u'longitude', u'depth', u'mag', u'magType',\n",
       "       u'nst', u'gap', u'dmin', u'rms', u'net', u'id', u'updated', u'place',\n",
       "       u'type', u'horizontalError', u'depthError', u'magError', u'magNst',\n",
       "       u'status', u'locationSource', u'magSource'],\n",
       "      dtype='object')"
      ]
     },
     "execution_count": 3,
     "metadata": {},
     "output_type": "execute_result"
    }
   ],
   "source": [
    "df.keys()"
   ]
  },
  {
   "cell_type": "markdown",
   "metadata": {},
   "source": [
    "We're primarily interested in determining the relationship between relative frequency and magnitude.  Extract the magnitude variable from the pandas data frame using the 'mag' key.  \n",
    "\n",
    "Next, you'll need to determine the number of earthquakes that occured in the data as a function of magnitude.  This is easily done by deciding on a set of bins, and then counting the number of items in each bin.  This is also known as a [histogram](https://docs.scipy.org/doc/numpy/reference/generated/numpy.histogram.html), and is easily computed using either numpy or matplotlib.  You'll want to use a fairly large number of bins, say 50 (equally spaced).  *Note that the histogram function provided by either of the above libraries returns total counts rather than relative frequencies: you'll need to compute relative frequencies by dividing the returned counts by the total number of earthquakes in the dataset.*"
   ]
  },
  {
   "cell_type": "code",
   "execution_count": 43,
   "metadata": {},
   "outputs": [
    {
     "name": "stdout",
     "output_type": "stream",
     "text": [
      "0        3.35\n",
      "1        2.64\n",
      "2        2.59\n",
      "3        3.47\n",
      "4        2.67\n",
      "5        3.20\n",
      "6        2.79\n",
      "7        3.08\n",
      "8        2.54\n",
      "9        2.74\n",
      "10       2.73\n",
      "11       2.56\n",
      "12       2.77\n",
      "13       3.26\n",
      "14       2.95\n",
      "15       2.83\n",
      "16       2.60\n",
      "17       2.66\n",
      "18       2.68\n",
      "19       2.85\n",
      "20       2.72\n",
      "21       2.51\n",
      "22       2.80\n",
      "23       2.74\n",
      "24       2.58\n",
      "25       2.54\n",
      "26       2.52\n",
      "27       2.67\n",
      "28       2.64\n",
      "29       2.50\n",
      "         ... \n",
      "19969    2.52\n",
      "19970    2.87\n",
      "19971    2.87\n",
      "19972    3.19\n",
      "19973    2.90\n",
      "19974    3.20\n",
      "19975    2.50\n",
      "19976    2.96\n",
      "19977    2.70\n",
      "19978    3.80\n",
      "19979    2.60\n",
      "19980    3.10\n",
      "19981    2.50\n",
      "19982    2.76\n",
      "19983    2.50\n",
      "19984    2.90\n",
      "19985    3.40\n",
      "19986    2.81\n",
      "19987    3.02\n",
      "19988    2.50\n",
      "19989    2.61\n",
      "19990    2.71\n",
      "19991    2.54\n",
      "19992    2.61\n",
      "19993    3.08\n",
      "19994    2.50\n",
      "19995    3.23\n",
      "19996    3.12\n",
      "19997    2.50\n",
      "19998    2.78\n",
      "Name: mag, Length: 19999, dtype: float64\n"
     ]
    }
   ],
   "source": [
    "mag = df['mag']\n",
    "print(mag)"
   ]
  },
  {
   "cell_type": "code",
   "execution_count": 67,
   "metadata": {},
   "outputs": [
    {
     "name": "stdout",
     "output_type": "stream",
     "text": [
      "50\n",
      "51\n",
      "19999\n"
     ]
    },
    {
     "data": {
      "text/plain": [
       "(array([3906, 2988, 2627, 2009, 1719, 1325,  913,  830,  682,  544,  549,\n",
       "         356,  292,  241,  197,  173,  103,  118,   90,   66,   64,   48,\n",
       "          38,   25,   17,   18,   10,    8,    6,    7,    5,    6,    4,\n",
       "           2,    2,    4,    0,    1,    0,    0,    0,    1,    1,    1,\n",
       "           0,    1,    0,    0,    1,    1]),\n",
       " array([2.5  , 2.594, 2.688, 2.782, 2.876, 2.97 , 3.064, 3.158, 3.252,\n",
       "        3.346, 3.44 , 3.534, 3.628, 3.722, 3.816, 3.91 , 4.004, 4.098,\n",
       "        4.192, 4.286, 4.38 , 4.474, 4.568, 4.662, 4.756, 4.85 , 4.944,\n",
       "        5.038, 5.132, 5.226, 5.32 , 5.414, 5.508, 5.602, 5.696, 5.79 ,\n",
       "        5.884, 5.978, 6.072, 6.166, 6.26 , 6.354, 6.448, 6.542, 6.636,\n",
       "        6.73 , 6.824, 6.918, 7.012, 7.106, 7.2  ]))"
      ]
     },
     "execution_count": 67,
     "metadata": {},
     "output_type": "execute_result"
    }
   ],
   "source": [
    "mag_hist = np.histogram(mag, bins=50)\n",
    "print(len(mag_hist[0]))\n",
    "print(len(mag_hist[1]))\n",
    "print(sum(mag_hist[0]))\n",
    "mag_hist\n"
   ]
  },
  {
   "cell_type": "code",
   "execution_count": null,
   "metadata": {},
   "outputs": [],
   "source": [
    "\n",
    "magx = np.asarray(mag_hist[0], dtype=np.float64)\n",
    "\n",
    "magx /= sum(magx)\n",
    "magx"
   ]
  },
  {
   "cell_type": "code",
   "execution_count": 58,
   "metadata": {},
   "outputs": [
    {
     "data": {
      "text/plain": [
       "(array([0, 0, 0, 0, 0, 0, 0, 0, 0, 0, 0, 0, 0, 0, 0, 0, 0, 0, 0, 0, 0, 0,\n",
       "        0, 0, 0, 0, 0, 0, 0, 0, 0, 0, 0, 0, 0, 0, 0, 0, 0, 0, 0, 0, 0, 0,\n",
       "        0, 0, 0, 0, 0, 0]),\n",
       " array([2.5  , 2.594, 2.688, 2.782, 2.876, 2.97 , 3.064, 3.158, 3.252,\n",
       "        3.346, 3.44 , 3.534, 3.628, 3.722, 3.816, 3.91 , 4.004, 4.098,\n",
       "        4.192, 4.286, 4.38 , 4.474, 4.568, 4.662, 4.756, 4.85 , 4.944,\n",
       "        5.038, 5.132, 5.226, 5.32 , 5.414, 5.508, 5.602, 5.696, 5.79 ,\n",
       "        5.884, 5.978, 6.072, 6.166, 6.26 , 6.354, 6.448, 6.542, 6.636,\n",
       "        6.73 , 6.824, 6.918, 7.012, 7.106, 7.2  ]))"
      ]
     },
     "execution_count": 58,
     "metadata": {},
     "output_type": "execute_result"
    }
   ],
   "source": [
    "mag_hist"
   ]
  },
  {
   "cell_type": "markdown",
   "metadata": {},
   "source": [
    "**(20 pts) Make a plot with bin centroids on the $x$-axis and relative frequency on the $y$-axis.  Based on your results, please provide a few sentences describing whether the model $y = w_0 + w_1 x$ is a good fit to the data, if $x$ represents earthquake magnitude and $y$ represents relative frequency.**\n",
    "\n",
    "!Answers go here"
   ]
  },
  {
   "cell_type": "code",
   "execution_count": 71,
   "metadata": {},
   "outputs": [
    {
     "data": {
      "text/plain": [
       "Text(0.5,0,'Magnitude')"
      ]
     },
     "execution_count": 71,
     "metadata": {},
     "output_type": "execute_result"
    },
    {
     "data": {
      "image/png": "[encoded data removed]",
      "text/plain": [
       "<Figure size 432x288 with 1 Axes>"
      ]
     },
     "metadata": {},
     "output_type": "display_data"
    }
   ],
   "source": [
    "plt.plot(mag_hist[1][:-1], magx, linewidth=3)\n",
    "plt.ylabel('Relative frequency')\n",
    "plt.xlabel('Magnitude')\n"
   ]
  },
  {
   "cell_type": "markdown",
   "metadata": {},
   "source": [
    "As it turns out, a physical model that gives the predicted relative frequency of earthquakes of different magnitudes can be derived from physics, and is given by a so-called *power-law*\n",
    "$$\n",
    "y = ax^b\n",
    "$$\n",
    "**(20pts) If you wanted to directly fit this power-law model to these data, would you be able to use the linear regression code that we've already developed to do so?  If so, how?  If not, why not?**\n",
    "\n",
    "!Answers go here"
   ]
  },
  {
   "cell_type": "markdown",
   "metadata": {},
   "source": [
    "As it turns out, it is not possible to use linear regression to fit this model directly.  However, it can be done by using a clever transformation of the data.  **(20pts) Plot the base-10 logarithm of the event counts.  Now does a linear model seem like a good fit?  If the power law is a good fit to the untransformed data, why does it make sense that a linear model should fit the log-transformed data (HINT: take the logarithm of both sides of the power law)**\n",
    "\n",
    "!Answers go here"
   ]
  },
  {
   "cell_type": "markdown",
   "metadata": {},
   "source": [
    "Finally, **(40pts) use one of the methods that you developed for linear regression in class to fit a line to the log-transformed counts.  What is the slope of that line?  Is the model a good fit for all sizes of earthquake?**\n",
    "\n",
    "!Answers go here"
   ]
  },
  {
   "cell_type": "code",
   "execution_count": null,
   "metadata": {},
   "outputs": [],
   "source": []
  }
 ],
 "metadata": {
  "kernelspec": {
   "display_name": "Python 3",
   "language": "python",
   "name": "python3"
  },
  "language_info": {
   "codemirror_mode": {
    "name": "ipython",
    "version": 2
   },
   "file_extension": ".py",
   "mimetype": "text/x-python",
   "name": "python",
   "nbconvert_exporter": "python",
   "pygments_lexer": "ipython2",
   "version": "2.7.15"
  }
 },
 "nbformat": 4,
 "nbformat_minor": 2
}
